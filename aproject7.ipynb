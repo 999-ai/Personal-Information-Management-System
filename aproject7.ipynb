{
 "cells": [
  {
   "cell_type": "code",
   "execution_count": null,
   "id": "4200b0c4-874e-4c08-9798-6824d1248772",
   "metadata": {},
   "outputs": [
    {
     "name": "stdin",
     "output_type": "stream",
     "text": [
      "Please tell me a name sibel\n",
      "what is her/his age 89\n",
      "what is her/his email adress sdfldlfj\n",
      "what is her/his phone number? 46565\n",
      "Please tell me a name reeo\n",
      "what is her/his age 87\n",
      "what is her/his email adress \n",
      "what is her/his phone number? kslmsddfm\n",
      "Please tell me a name none\n"
     ]
    },
    {
     "name": "stdout",
     "output_type": "stream",
     "text": [
      "{'sibel': {'age': 89, 'user__mailadress': 'sdfldlfj', 'phone_no': '46565'}, 'reeo': {'age': 87, 'user__mailadress': '', 'phone_no': 'kslmsddfm'}}\n"
     ]
    }
   ],
   "source": [
    "user_dict={}\n",
    "def add_user_name(user_name,age,e_mailadress,phone_no):\n",
    "   info={\"age\":age,\"user__mailadress\":e_mailadress, \"phone_no\":phone_no}\n",
    "   user_dict[user_name]=info\n",
    "while True:\n",
    "    user_name=input(\"Please tell me a name\")\n",
    "    if user_name==\"none\":\n",
    "     break\n",
    "    age=int(input(\"what is her/his age\"))\n",
    "    e_mailadress=input(\"what is her/his email adress\")\n",
    "    phone_no=input(\"what is her/his phone number?\")\n",
    "    add_user_name(user_name,age,e_mailadress,phone_no)\n",
    "print(user_dict)\n",
    "    \n",
    "def updating():\n",
    "   user_name=input(\"whose name do you want to update\")\n",
    "   \n",
    "   if  user_name in user_dict:\n",
    "     \n",
    "    updated_age=input(\"which age do you want me to change\")\n",
    "    updated_e_mailadress=input(\"Please tell me new e-mail adress\")\n",
    "    updated_phone_no=input(\"Give me his or her new phone no\")\n",
    "    newinfo={\"age\":updated_age,\"e_mailadress\":updated_e_mailadress, \"phone_no\":updated_phone_no}\n",
    "    \n",
    "     \n",
    "    user_dict[user_name]=newinfo  \n",
    "    print(f\"the  info of name,{user_name}, is updated\")\n",
    "    print(user_dict)    \n",
    "   \n",
    "   else:\n",
    "     print(f\"The name {user_name} you are looking for is not found\")\n",
    "\n",
    "def deleting():\n",
    "     user_name=input(\"which name do you want me to delete\")\n",
    "     if  user_name in user_dict:\n",
    "        user_dict.pop(user_name)\n",
    "        print(f\"the name{user_name} and info deleted\")\n",
    "        print(user_dict)\n",
    "     else:\n",
    "         print(f\"the name{user_name} is not founded\")\n",
    "\n",
    "\n",
    "def displaying():\n",
    "     for user_name in user_dict:\n",
    "     \n",
    "      print(user_name,\":\",user_dict[user_name])\n",
    "      print(\"\\nThe dictionary with respect to user info is above\")\n",
    "\n",
    "\n",
    "\n",
    "\n",
    "\n",
    "\n",
    "while True:\n",
    "    action = input(\"\\nWould you like to update, delete, or display users? (Enter 'update', 'delete', 'display', or 'none' to stop): \")\n",
    "    if action.lower() == \"none\":\n",
    "        break\n",
    "\n",
    "    if action.lower() == \"update\":\n",
    "        updating()\n",
    "    elif action.lower() == \"delete\":\n",
    "        deleting()\n",
    "    elif action.lower() == \"display\":\n",
    "        displaying()\n",
    "    else:\n",
    "        print(\"Invalid action. Please choose 'update', 'delete', or 'display'.\")\n",
    "\n",
    "  \n",
    "\n",
    "\n",
    "\n"
   ]
  },
  {
   "cell_type": "code",
   "execution_count": null,
   "id": "2352be8d-d489-46af-9dfa-87baf6fe187a",
   "metadata": {},
   "outputs": [],
   "source": []
  },
  {
   "cell_type": "code",
   "execution_count": null,
   "id": "7e47f07b-743b-477c-9b81-99a2235fa7b4",
   "metadata": {},
   "outputs": [],
   "source": []
  }
 ],
 "metadata": {
  "kernelspec": {
   "display_name": "Python 3 (ipykernel)",
   "language": "python",
   "name": "python3"
  },
  "language_info": {
   "codemirror_mode": {
    "name": "ipython",
    "version": 3
   },
   "file_extension": ".py",
   "mimetype": "text/x-python",
   "name": "python",
   "nbconvert_exporter": "python",
   "pygments_lexer": "ipython3",
   "version": "3.12.4"
  }
 },
 "nbformat": 4,
 "nbformat_minor": 5
}
